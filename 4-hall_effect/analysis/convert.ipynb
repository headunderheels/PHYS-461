{
 "cells": [
  {
   "cell_type": "code",
   "execution_count": 28,
   "metadata": {},
   "outputs": [],
   "source": [
    "import numpy as np\n",
    "import pandas as pd\n",
    "from datetime import datetime\n",
    "import argparse\n",
    "import uproot\n",
    "import sys\n",
    "import csv\n",
    "from glob import glob\n",
    "from pathlib import Path\n"
   ]
  },
  {
   "cell_type": "code",
   "execution_count": 48,
   "metadata": {},
   "outputs": [],
   "source": [
    "# .txt -> .csv \n",
    "\n",
    "absolute_path_only = 'D:/PHYS-461/4-hall_effect/data'\n",
    "input_files = glob(absolute_path_only + '/*.txt')\n",
    "\n",
    "base_csv = []\n",
    "for file in input_files:\n",
    "    base = Path(file).stem\n",
    "    base_csv.append(base + '.csv')\n",
    "\n",
    "input_path = []\n",
    "output_path = []\n",
    "\n",
    "for i in range(len(base_csv)):\n",
    "    input_file_path = input_files[i]\n",
    "    output_file_path = absolute_path_only + '/' + base_csv[i]\n",
    "\n",
    "    input_path.append(input_file_path)\n",
    "    output_path.append(output_file_path)\n",
    "    \n",
    "    # print(output_file_path)\n",
    "\n",
    "    with open(input_file_path, 'r') as txt_file, open(output_file_path, 'w', newline='') as csv_file:\n",
    "        reader = txt_file.readlines()\n",
    "        writer = csv.writer(csv_file)\n",
    "        # print(reader)\n",
    "\n",
    "        for line in reader:\n",
    "            # print(line)\n",
    "\n",
    "            row = line.split()\n",
    "            writer.writerow(row)"
   ]
  },
  {
   "cell_type": "code",
   "execution_count": 61,
   "metadata": {},
   "outputs": [
    {
     "name": "stdout",
     "output_type": "stream",
     "text": [
      "Icoil           Bnom     \n"
     ]
    }
   ],
   "source": [
    "\n",
    "\n",
    "def file_to_convert(file_name):\n",
    "    with open(file_name, 'r') as file:\n",
    "        Icoil = []\n",
    "        Icoil_evt = []\n",
    "        Bnom = []\n",
    "        VHall = []\n",
    "        stddev = []\n",
    "        Bmeas = []\n",
    "        content = file.readline(25)\n",
    "        print(content)\n",
    "        file.close()\n",
    "        # for row in file:\n",
    "            # Icoil_evt.append(Icoil)\n",
    "            # print(row)\n",
    "        # for line in file:\n",
    "            # print(line)\n",
    "            # Icoil_evt.append('Icoil')\n",
    "        # for i in range(10):\n",
    "            # print(row)\n",
    "            # print(line[1])\n",
    "    # Icoil.append(Icoil_evt)\n",
    "    # print(Icoil_evt)\n",
    "\n",
    "    # return Icoil\n",
    "\n",
    "\n",
    "\n",
    "\n",
    "file_to_convert(file)\n",
    "\n",
    "\n"
   ]
  },
  {
   "cell_type": "code",
   "execution_count": null,
   "metadata": {},
   "outputs": [],
   "source": [
    "def save_as_root(tstamps, trgids, boards, channels, LGs, HGs, file_out):\n",
    "    file = uproot.recreate(file_out)\n",
    "\n",
    "    file[\"tree\"] = {\"t_stamp\": tstamps, \n",
    "                    \"trgid\": trgids,\n",
    "                    \"board\": boards,\n",
    "                    \"channel\": channels,\n",
    "                    \"LG\": LGs,\n",
    "                    \"HG\": HGs}\n",
    "    file.close()"
   ]
  }
 ],
 "metadata": {
  "kernelspec": {
   "display_name": "Python 3",
   "language": "python",
   "name": "python3"
  },
  "language_info": {
   "codemirror_mode": {
    "name": "ipython",
    "version": 3
   },
   "file_extension": ".py",
   "mimetype": "text/x-python",
   "name": "python",
   "nbconvert_exporter": "python",
   "pygments_lexer": "ipython3",
   "version": "3.10.11"
  }
 },
 "nbformat": 4,
 "nbformat_minor": 2
}
