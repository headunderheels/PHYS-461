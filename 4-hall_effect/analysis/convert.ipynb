{
 "cells": [
  {
   "cell_type": "code",
   "execution_count": 7,
   "metadata": {},
   "outputs": [
    {
     "ename": "ModuleNotFoundError",
     "evalue": "No module named 'ROOT'",
     "output_type": "error",
     "traceback": [
      "\u001b[0;31m---------------------------------------------------------------------------\u001b[0m",
      "\u001b[0;31mModuleNotFoundError\u001b[0m                       Traceback (most recent call last)",
      "Cell \u001b[0;32mIn[7], line 6\u001b[0m\n\u001b[1;32m      4\u001b[0m \u001b[38;5;28;01mimport\u001b[39;00m \u001b[38;5;21;01margparse\u001b[39;00m\n\u001b[1;32m      5\u001b[0m \u001b[38;5;28;01mimport\u001b[39;00m \u001b[38;5;21;01muproot\u001b[39;00m\n\u001b[0;32m----> 6\u001b[0m \u001b[38;5;28;01mimport\u001b[39;00m \u001b[38;5;21;01mROOT\u001b[39;00m\n\u001b[1;32m      7\u001b[0m \u001b[38;5;66;03m# from pyroot import ROOT\u001b[39;00m\n\u001b[1;32m      8\u001b[0m \u001b[38;5;66;03m# import pyroot\u001b[39;00m\n\u001b[1;32m      9\u001b[0m \u001b[38;5;28;01mimport\u001b[39;00m \u001b[38;5;21;01msys\u001b[39;00m\n",
      "\u001b[0;31mModuleNotFoundError\u001b[0m: No module named 'ROOT'"
     ]
    }
   ],
   "source": [
    "import numpy as np\n",
    "import pandas as pd\n",
    "from datetime import datetime\n",
    "import argparse\n",
    "import uproot\n",
    "import ROOT\n",
    "# from pyroot import ROOT\n",
    "# import pyroot\n",
    "import sys\n",
    "import csv\n",
    "from glob import glob\n",
    "from pathlib import Path\n",
    "\n"
   ]
  },
  {
   "cell_type": "code",
   "execution_count": 7,
   "metadata": {},
   "outputs": [],
   "source": [
    "# .txt -> .csv \n",
    "\n",
    "absolute_path_only = '/media/droc/Seagate/PHYS-461/4-hall_effect/data/'\n",
    "input_files = glob(absolute_path_only + '/*.txt')\n",
    "# print(input_files)\n",
    "\n",
    "base_csv = []\n",
    "for file in input_files:\n",
    "    base = Path(file).stem\n",
    "    base_csv.append(base + '.csv')\n",
    "\n",
    "input_path = []\n",
    "output_path = []\n",
    "\n",
    "for i in range(len(base_csv)):\n",
    "    input_file_path = input_files[i]\n",
    "    output_file_path = absolute_path_only + '/' + base_csv[i]\n",
    "\n",
    "    input_path.append(input_file_path)\n",
    "    output_path.append(output_file_path)\n",
    "    \n",
    "    # print(output_file_path)\n",
    "\n",
    "    with open(input_file_path, 'r') as txt_file, open(output_file_path, 'w', newline='') as csv_file:\n",
    "        reader = txt_file.readlines()\n",
    "        writer = csv.writer(csv_file)\n",
    "        # print(reader)\n",
    "\n",
    "        for line in reader:\n",
    "            # print(line)\n",
    "\n",
    "            row = line.split()\n",
    "            writer.writerow(row)"
   ]
  },
  {
   "cell_type": "code",
   "execution_count": 9,
   "metadata": {},
   "outputs": [],
   "source": [
    "def save_as_root(data, file_out,df):\n",
    "    file = uproot.recreate(file_out)\n",
    "\n",
    "    # file[\"tree\"] = {\"Icoil\": Icoil}\n",
    "    # file[\"data\"] = data\n",
    "\n",
    "    file.close()"
   ]
  },
  {
   "cell_type": "code",
   "execution_count": 11,
   "metadata": {},
   "outputs": [
    {
     "name": "stdout",
     "output_type": "stream",
     "text": [
      "{'Icoil': array(['1.3990E+0', '2.0490E+0', '2.6990E+0', '3.3490E+0', '3.9490E+0',\n",
      "       '4.5990E+0', '5.2490E+0', '5.8990E+0', '6.5990E+0', '7.3490E+0',\n",
      "       'Foil'], dtype=object), 'Bnom': array(['2.0390E+0', '2.9366E+0', '3.8341E+0', '4.7316E+0', '5.5601E+0',\n",
      "       '6.4576E+0', '7.3551E+0', '8.2526E+0', '9.1170E+0', '1.0030E+1',\n",
      "       'current'], dtype=object), 'VHall': array(['4.8200E-2', '4.7600E-2', '4.7200E-2', '4.7000E-2', '4.6800E-2',\n",
      "       '4.6400E-2', '4.6800E-2', '4.6400E-2', '4.6000E-2', '4.6000E-2',\n",
      "       'was'], dtype=object), 'stddev': array([4.4721e-04, 5.4772e-04, 4.4721e-04, 0.0000e+00, 4.4721e-04,\n",
      "       5.4772e-04, 4.4721e-04, 5.4772e-04, 0.0000e+00, 0.0000e+00,\n",
      "       6.0000e+00]), 'Bmeas': array([1.9558, 2.8417, 3.74  , 4.6345, 5.4566, 6.3321, 7.1984, 8.044 ,\n",
      "       8.9313, 9.8263,    nan])}\n",
      "0     1.3990E+0\n",
      "1     2.0490E+0\n",
      "2     2.6990E+0\n",
      "3     3.3490E+0\n",
      "4     3.9490E+0\n",
      "5     4.5990E+0\n",
      "6     5.2490E+0\n",
      "7     5.8990E+0\n",
      "8     6.5990E+0\n",
      "9     7.3490E+0\n",
      "10         Foil\n",
      "Name: Icoil, dtype: object\n"
     ]
    }
   ],
   "source": [
    "df = pd.read_csv(output_path[0])\n",
    "\n",
    "data = {col: df[col].values for col in df.columns}\n",
    "\n",
    "print(data)\n",
    "\n",
    "column_names = []\n",
    "for row in df:\n",
    "    column_names.append(row)\n",
    "    # print(row)\n",
    "    # print(df[row])\n",
    "\n",
    "print(df[column_names[0]])\n",
    "\n",
    "file_out_root = output_path[0].replace('.csv','.root')\n",
    "\n",
    "save_as_root(data,file_out_root,df)"
   ]
  }
 ],
 "metadata": {
  "kernelspec": {
   "display_name": "Python 3",
   "language": "python",
   "name": "python3"
  },
  "language_info": {
   "codemirror_mode": {
    "name": "ipython",
    "version": 3
   },
   "file_extension": ".py",
   "mimetype": "text/x-python",
   "name": "python",
   "nbconvert_exporter": "python",
   "pygments_lexer": "ipython3",
   "version": "3.12.3"
  }
 },
 "nbformat": 4,
 "nbformat_minor": 2
}
