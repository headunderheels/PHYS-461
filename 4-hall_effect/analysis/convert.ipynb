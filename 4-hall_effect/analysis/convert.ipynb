{
 "cells": [
  {
   "cell_type": "code",
   "execution_count": 20,
   "metadata": {},
   "outputs": [],
   "source": [
    "import numpy as np\n",
    "import pandas as pd\n",
    "from array import array\n",
    "import uproot\n",
    "import csv\n",
    "from glob import glob\n",
    "from pathlib import Path\n",
    "import ROOT\n",
    "\n"
   ]
  },
  {
   "cell_type": "code",
   "execution_count": 6,
   "metadata": {},
   "outputs": [],
   "source": [
    "# .txt -> .csv \n",
    "\n",
    "absolute_path_only = '/media/droc/Seagate/PHYS-461/4-hall_effect/data/'\n",
    "input_files = glob(absolute_path_only + '/*.txt')\n",
    "# print(input_files)\n",
    "\n",
    "base_csv = []\n",
    "for file in input_files:\n",
    "    base = Path(file).stem\n",
    "    base_csv.append(base + '.csv')\n",
    "\n",
    "input_path = []\n",
    "output_path = []\n",
    "\n",
    "for i in range(len(base_csv)):\n",
    "    input_file_path = input_files[i]\n",
    "    output_file_path = absolute_path_only + '/' + base_csv[i]\n",
    "\n",
    "    input_path.append(input_file_path)\n",
    "    output_path.append(output_file_path)\n",
    "    \n",
    "    # print(output_file_path)\n",
    "\n",
    "    with open(input_file_path, 'r') as txt_file, open(output_file_path, 'w', newline='') as csv_file:\n",
    "        reader = txt_file.readlines()\n",
    "        writer = csv.writer(csv_file)\n",
    "        # print(writer)\n",
    "\n",
    "        for line in reader:\n",
    "            \n",
    "            \n",
    "            row = line.split()\n",
    "            writer.writerow(row)\n",
    "            "
   ]
  },
  {
   "cell_type": "code",
   "execution_count": 124,
   "metadata": {},
   "outputs": [],
   "source": [
    "# .csv -> .root\n",
    "\n",
    "out_root = []\n",
    "for file in output_path:\n",
    "\n",
    "    df = pd.read_csv(file)\n",
    "\n",
    "    file_out_root = file.replace('.csv','.root')\n",
    "    out_root.append(file_out_root)\n",
    "    root_file = ROOT.TFile(file_out_root, \"RECREATE\")\n",
    "    tree = ROOT.TTree(\"data\", \"Data from CSV\")\n",
    "\n",
    "    branches = {}\n",
    "\n",
    "    def clean_data(df):\n",
    "        for col in df.columns:\n",
    "            # Convert all values in the column to float, set non-convertible values to NaN\n",
    "            df[col] = pd.to_numeric(df[col], errors='coerce')\n",
    "        return df\n",
    "\n",
    "    df = clean_data(df)\n",
    "\n",
    "    for column in df.columns:\n",
    "        branches[column] = array('f', [0])  # Create float arrays for each column\n",
    "        tree.Branch(column, branches[column], f'{column}/F')\n",
    "\n",
    "    for index, row in df.iterrows():\n",
    "        for column in df.columns:\n",
    "            branches[column][0] = row[column]\n",
    "        tree.Fill()\n",
    "\n",
    "    # Write the tree to the ROOT file and close it\n",
    "    tree.Write()\n",
    "    root_file.Close()\n",
    "\n",
    "    # print(root_file)"
   ]
  },
  {
   "cell_type": "code",
   "execution_count": 127,
   "metadata": {},
   "outputs": [
    {
     "name": "stdout",
     "output_type": "stream",
     "text": [
      "Name: /media/droc/Seagate/PHYS-461/4-hall_effect/data//Si_nDoped_.5mA_run4.root Title: \n",
      "1.9907000064849854\n",
      "2.9572999477386475\n",
      "3.785799980163574\n",
      "4.6819000244140625\n",
      "5.579400062561035\n",
      "6.476900100708008\n",
      "7.374499797821045\n",
      "8.27340030670166\n",
      "9.13759994506836\n",
      "10.04800033569336\n",
      "nan\n"
     ]
    }
   ],
   "source": [
    "file = ROOT.TFile(out_root[-1])\n",
    "print(file)\n",
    "\n",
    "# Access a specific tree\n",
    "tree = file.Get(\"data\")\n",
    "\n",
    "# Loop over the entries in the tree and print the values of a branch\n",
    "for entry in tree:\n",
    "    # print(entry)\n",
    "    print(entry.Bnom)  # Replace 'branch_name' with the actual branch name\n",
    "\n",
    "# Close the file\n",
    "file.Close()"
   ]
  }
 ],
 "metadata": {
  "kernelspec": {
   "display_name": "root-environment",
   "language": "python",
   "name": "python3"
  },
  "language_info": {
   "codemirror_mode": {
    "name": "ipython",
    "version": 3
   },
   "file_extension": ".py",
   "mimetype": "text/x-python",
   "name": "python",
   "nbconvert_exporter": "python",
   "pygments_lexer": "ipython3",
   "version": "3.12.7"
  }
 },
 "nbformat": 4,
 "nbformat_minor": 2
}
