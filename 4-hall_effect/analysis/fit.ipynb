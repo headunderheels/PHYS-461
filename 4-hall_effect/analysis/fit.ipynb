{
 "cells": [
  {
   "cell_type": "code",
   "execution_count": 340,
   "metadata": {},
   "outputs": [],
   "source": [
    "from glob import glob\n",
    "from pathlib import Path\n",
    "import ROOT\n",
    "import csv"
   ]
  },
  {
   "cell_type": "code",
   "execution_count": 341,
   "metadata": {},
   "outputs": [],
   "source": [
    "absolute_path_only = '/media/droc/Seagate/PHYS-461/4-hall_effect/data/'\n",
    "input_files = glob(absolute_path_only + '/*.root')\n",
    "\n",
    "namer = []\n",
    "\n",
    "for i in range(len(input_files)):\n",
    "\n",
    "    base = Path(input_files[i]).stem\n",
    "    namer.append(base[:base.index(\"_run\")])"
   ]
  },
  {
   "cell_type": "code",
   "execution_count": 342,
   "metadata": {},
   "outputs": [
    {
     "name": "stderr",
     "output_type": "stream",
     "text": [
      "Warning in <TCanvas::Constructor>: Deleting canvas with same name: c0\n"
     ]
    }
   ],
   "source": [
    "line = ROOT.TF1('line', '[0]*x+[1]', 0, 11)\n",
    "\n",
    "pzero = []\n",
    "pzero_error = []\n",
    "pone = []\n",
    "pone_error = []\n",
    "curr = []\n",
    "title = []\n",
    "\n",
    "c0 = ROOT.TCanvas(\"c0\",\"\", 800,800,800,550)\n",
    "\n",
    "def linear_fit(file_path,titlee):\n",
    "\n",
    "    file = ROOT.TFile(file_path) \n",
    "    tree = file.Get(\"data\")\n",
    "    rdf = ROOT.RDataFrame(tree)\n",
    "\n",
    "    bmeas = rdf.AsNumpy(columns=[\"Bmeas\"])[\"Bmeas\"][:-1]\n",
    "    bnom = rdf.AsNumpy(columns=[\"Bnom\"])[\"Bnom\"][:-1]\n",
    "    icoil = rdf.AsNumpy(columns=[\"Icoil\"])[\"Icoil\"]\n",
    "    vhall = rdf.AsNumpy(columns=[\"VHall\"])[\"VHall\"][:-1]\n",
    "    stddev = rdf.AsNumpy(columns=[\"stddev\"])[\"stddev\"]\n",
    "    \n",
    "    curr.append(float(stddev[-1]))\n",
    "    stddev = stddev[:-1]\n",
    "\n",
    "    # print(bmeas)\n",
    "    # print(bnom)\n",
    "    # print(stddev)\n",
    "    # print(vhall)\n",
    "    # print(icoil)\n",
    "    file.Close()\n",
    "\n",
    "    \n",
    "    c0.Update()\n",
    "\n",
    "    gr = ROOT.TGraphErrors(len(bmeas),bmeas,vhall,0,stddev)\n",
    "    gr.SetMarkerStyle(ROOT.kFullCircle)\n",
    "    gr.SetTitle(titlee)\n",
    "    gr.GetXaxis().SetTitle(\"Measured Magnetic Field\")\n",
    "    gr.GetYaxis().SetTitle(\"Hall Voltage\")\n",
    "    gr.Fit(line, \"Q\")\n",
    "    \n",
    "\n",
    "    p0 = line.GetParameter(0)\n",
    "    p0_error = line.GetParError(0)\n",
    "    p1 = line.GetParameter(1)\n",
    "    p1_error = line.GetParError(1)\n",
    "\n",
    "    pzero.append(line.GetParameter(0))\n",
    "    pzero_error.append(line.GetParError(0))\n",
    "    pone.append(line.GetParameter(1))\n",
    "    pone_error.append(line.GetParError(1))\n",
    "    title.append(titlee)\n",
    "    \n",
    "    gr.Draw(\"AP\")\n",
    "\n",
    "    latex = ROOT.TLatex()\n",
    "    latex.SetNDC()\n",
    "    latex.SetTextSize(0.06)\n",
    "    latex.DrawLatex(0.4,0.8,f'#scale[0.6]{{#bf{{slope: {p0:.2e} #sigma = #pm {p0_error:.2e} }}}}') \n",
    "    latex.DrawLatex(0.4,0.76,f'#scale[0.6]{{#bf{{y-intercept: {p1:.2e} #sigma = #pm {p1_error:.2e}}}}}') \n",
    "\n",
    "    png_file = file_path.replace(\".root\",\".pdf\")\n",
    "    c0.SaveAs(png_file)\n",
    "    c0.Clear()\n",
    "\n",
    "    return pzero,pzero_error,pone,pone_error,curr,title"
   ]
  },
  {
   "cell_type": "code",
   "execution_count": 343,
   "metadata": {},
   "outputs": [],
   "source": [
    "for index, file in enumerate(input_files):\n",
    "    p0,p0_error,p1,p1_error,current,title = linear_fit(file,namer[index])"
   ]
  },
  {
   "cell_type": "code",
   "execution_count": 344,
   "metadata": {},
   "outputs": [],
   "source": [
    "def lists_to_dict(keys, *values_lists):\n",
    "    \n",
    "    result_dict = {}\n",
    "    thick = {\"Mo\": (0,0.0015), \"Fe\" : (0,0.0025), \"Cu\" : (0,0.006), \"Ni\": (0,0.001), \"Cu-PCB\": (0,0.0011), \"Ge111\": (0,0.035), \"Ge100\": (0,0.052), \"Si\": (0,0.053)}\n",
    "\n",
    "    for i, key in enumerate(keys):\n",
    "        values_tuple = tuple(values_list[i] for values_list in values_lists)\n",
    "        result_dict[key] = values_tuple\n",
    "        for j, elem in enumerate(thick):\n",
    "            if elem in key:\n",
    "                result_dict[key] = values_tuple + thick[elem]\n",
    "    \n",
    "    return result_dict\n",
    "\n",
    "output_dict = lists_to_dict(namer, p0, p0_error,p1,p1_error,current)\n",
    "# print(output_dict)"
   ]
  },
  {
   "cell_type": "code",
   "execution_count": 345,
   "metadata": {},
   "outputs": [],
   "source": [
    "hall_resistance = {}\n",
    "\n",
    "for index, i in enumerate(output_dict):\n",
    "    \n",
    "    slope = output_dict[i][0] * 1e-6\n",
    "    y_intercept = output_dict[i][2] *1e-3\n",
    "\n",
    "    hc = ( slope * output_dict[i][6] ) / output_dict[i][4]\n",
    "    resistance = y_intercept / output_dict[i][4]\n",
    "\n",
    "    hall_resistance[i] = (hc,resistance)\n",
    "\n",
    "# print(hall_resistance)"
   ]
  },
  {
   "cell_type": "code",
   "execution_count": 346,
   "metadata": {},
   "outputs": [],
   "source": [
    "all_data = '/media/droc/Seagate/PHYS-461/4-hall_effect/data/all_data.csv'\n",
    "\n",
    "def dict_to_csv(input_dict, csv_filename):\n",
    "    with open(csv_filename, mode='w', newline='') as file:\n",
    "        writer = csv.writer(file)\n",
    "\n",
    "        header = input_dict.keys()\n",
    "        writer.writerow(header)\n",
    "\n",
    "        rows = zip(*input_dict.values())\n",
    "        writer.writerows(rows)\n",
    "\n",
    "dict_to_csv(hall_resistance,all_data)"
   ]
  },
  {
   "cell_type": "code",
   "execution_count": null,
   "metadata": {},
   "outputs": [],
   "source": []
  }
 ],
 "metadata": {
  "kernelspec": {
   "display_name": "root-environment",
   "language": "python",
   "name": "python3"
  },
  "language_info": {
   "codemirror_mode": {
    "name": "ipython",
    "version": 3
   },
   "file_extension": ".py",
   "mimetype": "text/x-python",
   "name": "python",
   "nbconvert_exporter": "python",
   "pygments_lexer": "ipython3",
   "version": "3.12.7"
  }
 },
 "nbformat": 4,
 "nbformat_minor": 2
}
