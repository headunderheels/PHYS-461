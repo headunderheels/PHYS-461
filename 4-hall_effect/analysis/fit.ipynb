{
 "cells": [
  {
   "cell_type": "code",
   "execution_count": 131,
   "metadata": {},
   "outputs": [],
   "source": [
    "import pandas as pd\n",
    "import csv\n",
    "from glob import glob\n",
    "from pathlib import Path\n",
    "import numpy as np\n",
    "import ROOT"
   ]
  },
  {
   "cell_type": "code",
   "execution_count": 132,
   "metadata": {},
   "outputs": [],
   "source": [
    "absolute_path_only = '/media/droc/Seagate/PHYS-461/4-hall_effect/data/'\n",
    "input_files = glob(absolute_path_only + '/*.root')\n",
    "\n",
    "namer = []\n",
    "for i in range(len(input_files)):\n",
    "\n",
    "    base = Path(input_files[i]).stem\n",
    "    # print(base)\n",
    "    namer.append(base[:base.index(\"_run\")])\n",
    "\n",
    "# print(namer)\n",
    "\n",
    "# print(input_files)"
   ]
  },
  {
   "cell_type": "code",
   "execution_count": 133,
   "metadata": {},
   "outputs": [],
   "source": [
    "file = ROOT.TFile(input_files[0]) \n",
    "\n",
    "tree = file.Get(\"data\")\n",
    "rdf = ROOT.RDataFrame(tree)\n",
    "\n",
    "bmeas = rdf.AsNumpy(columns=[\"Bmeas\"])[\"Bmeas\"]\n",
    "bnom = rdf.AsNumpy(columns=[\"Bnom\"])[\"Bnom\"][:-1]\n",
    "icoil = rdf.AsNumpy(columns=[\"Icoil\"])[\"Icoil\"]\n",
    "vhall = rdf.AsNumpy(columns=[\"VHall\"])[\"VHall\"][:-1]\n",
    "stddev = rdf.AsNumpy(columns=[\"stddev\"])[\"stddev\"]\n",
    "\n",
    "# Print the numpy array of Bmeas values\n",
    "\n",
    "# print(bmeas)\n",
    "# print(bnom)\n",
    "# print(stddev)\n",
    "# print(vhall)\n",
    "# print(icoil)\n",
    "\n",
    "\n",
    "file.Close()\n",
    "\n"
   ]
  },
  {
   "cell_type": "code",
   "execution_count": 140,
   "metadata": {},
   "outputs": [],
   "source": [
    "line = ROOT.TF1('line', '[0]*x+[1]', 1, 11)"
   ]
  },
  {
   "cell_type": "code",
   "execution_count": 243,
   "metadata": {},
   "outputs": [
    {
     "name": "stdout",
     "output_type": "stream",
     "text": [
      "****************************************\n",
      "Minimizer is Minuit2 / Migrad\n",
      "Chi2                      =       1.7592\n",
      "NDf                       =            5\n",
      "Edm                       =  3.53195e-20\n",
      "NCalls                    =           22\n",
      "p0                        = -0.000261863   +/-   8.56797e-05 \n",
      "p1                        =    0.0484334   +/-   0.000472953 \n"
     ]
    },
    {
     "name": "stderr",
     "output_type": "stream",
     "text": [
      "Info in <TCanvas::Print>: pdf file /media/droc/Seagate/PHYS-461/4-hall_effect/data/Cu_6A_run1.pdf has been created\n"
     ]
    }
   ],
   "source": [
    "c0 = ROOT.TCanvas(\"c0\",\"\", 800,800,800,600)\n",
    "\n",
    "\n",
    "\n",
    "c0.Update()\n",
    "\n",
    "latex = ROOT.TLatex()\n",
    "gr = ROOT.TGraphErrors(len(bnom),bnom,vhall,0,stddev)\n",
    "\n",
    "\n",
    "gr.SetMarkerStyle(ROOT.kFullCircle)\n",
    "gr.Fit(line)\n",
    "\n",
    "p0 = line.GetParameter(0)\n",
    "p0_error = line.GetParError(0)\n",
    "p1 = line.GetParameter(1)\n",
    "p1_error = line.GetParError(1)\n",
    "\n",
    "gr.SetTitle(namer[0])\n",
    "\n",
    "\n",
    "gr.Draw(\"AP\")\n",
    "latex.DrawLatexNDC(0.5,0.8,f'#scale[0.6]{{#bf{{slope: {p0:.2e} #sigma = #pm {p0_error:.2e} }}}}') \n",
    "latex.DrawLatexNDC(0.5,0.76,f'#scale[0.6]{{#bf{{y-intercept: {p1:.2e} #sigma = #pm {p1_error:.2e}}}}}') \n",
    "\n",
    "\n",
    "c0.Draw(\"P\")\n",
    "\n",
    "png_file = input_files[0].replace(\".root\",\".pdf\")\n",
    "c0.SaveAs(png_file)\n",
    "c0.Close()\n",
    "\n",
    "\n",
    "#"
   ]
  },
  {
   "cell_type": "code",
   "execution_count": null,
   "metadata": {},
   "outputs": [],
   "source": []
  }
 ],
 "metadata": {
  "kernelspec": {
   "display_name": "root-environment",
   "language": "python",
   "name": "python3"
  },
  "language_info": {
   "codemirror_mode": {
    "name": "ipython",
    "version": 3
   },
   "file_extension": ".py",
   "mimetype": "text/x-python",
   "name": "python",
   "nbconvert_exporter": "python",
   "pygments_lexer": "ipython3",
   "version": "3.12.7"
  }
 },
 "nbformat": 4,
 "nbformat_minor": 2
}
