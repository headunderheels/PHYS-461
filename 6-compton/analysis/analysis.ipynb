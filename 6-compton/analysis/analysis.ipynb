{
 "cells": [
  {
   "cell_type": "code",
   "execution_count": 29,
   "metadata": {},
   "outputs": [],
   "source": [
    "from glob import glob\n",
    "from pathlib import Path\n",
    "import ROOT\n",
    "import pandas as pd\n",
    "from array import array\n",
    "import csv\n",
    "# import matplotlib.pyplot as plt"
   ]
  },
  {
   "cell_type": "code",
   "execution_count": 44,
   "metadata": {},
   "outputs": [],
   "source": [
    "absolute_path_only = '/media/droc/Seagate/PHYS-461/6-compton/data/' #This will need to change depending on the path to data\n",
    "input_files = glob(absolute_path_only + '/*.csv')\n",
    "\n",
    "angle = []\n",
    "base_file = []\n",
    "for file in input_files:\n",
    "    base = Path(file).stem\n",
    "    base_file.append(base)\n",
    "    i = base.find('-')\n",
    "    angle.append(base[:i])\n",
    "\n",
    "base_file.sort()\n",
    "angle.sort()\n",
    "# print(angle)\n",
    "# print(len(angle))\n",
    "# print(base_file)"
   ]
  },
  {
   "cell_type": "code",
   "execution_count": 31,
   "metadata": {},
   "outputs": [
    {
     "name": "stdout",
     "output_type": "stream",
     "text": [
      "['/media/droc/Seagate/PHYS-461/6-compton/data/COMPTON-DATA.csv']\n"
     ]
    }
   ],
   "source": [
    "input_file = glob(absolute_path_only + '/C*.csv')\n",
    "print(input_file)"
   ]
  },
  {
   "cell_type": "code",
   "execution_count": null,
   "metadata": {},
   "outputs": [],
   "source": [
    "# .csv -> .root\n",
    "\n",
    "def clean_data(df):\n",
    "        for col in df.columns:\n",
    "            # Convert all values in the column to float, set non-convertible values to NaN\n",
    "            df[col] = pd.to_numeric(df[col], errors='coerce')\n",
    "        return df\n",
    "\n",
    "\n",
    "\n",
    "df = pd.read_csv(input_file[0])\n",
    "\n",
    "file_out_root = input_file[0].replace('.csv','.root')\n",
    "\n",
    "root_file = ROOT.TFile(file_out_root, \"RECREATE\")\n",
    "tree = ROOT.TTree(\"data\", \"Data from CSV\")\n",
    "\n",
    "branches = {}\n",
    "\n",
    "# df = clean_data(df)\n",
    "\n",
    "for column in df.columns:\n",
    "    branches[column] = array('f', [0])  # Create float arrays for each column\n",
    "    tree.Branch(column, branches[column], f'{column}/F')\n",
    "\n",
    "for index, row in df.iterrows():\n",
    "    for column in df.columns:\n",
    "        branches[column][0] = row[column]\n",
    "    tree.Fill()\n",
    "\n",
    "tree.Write()\n",
    "root_file.Close()\n"
   ]
  },
  {
   "cell_type": "code",
   "execution_count": 62,
   "metadata": {},
   "outputs": [
    {
     "name": "stderr",
     "output_type": "stream",
     "text": [
      "Error in <TUnixSystem::WorkingDirectory>: getcwd() failed\n",
      "Warning in <TCanvas::Constructor>: Deleting canvas with same name: c0\n"
     ]
    }
   ],
   "source": [
    "line = ROOT.TF1('line', '[0]*x+[1]', 0, 11)\n",
    "\n",
    "c0 = ROOT.TCanvas(\"c0\",\"\", 800,800,1000,550)\n",
    "\n",
    "file = ROOT.TFile(file_out_root) \n",
    "tree = file.Get(\"data\")\n",
    "rdf = ROOT.RDataFrame(tree)\n",
    "\n",
    "cos_1 = rdf.AsNumpy(columns=[\"1-cos(theta)\"])[\"1-cos(theta)\"]\n",
    "E_1 = rdf.AsNumpy(columns=[\"1-E'\"])[\"1-E'\"]\n",
    "stddev_1_E = rdf.AsNumpy(columns=[\"sigma_1-E'\"])[\"sigma_1-E'\"]\n",
    "ang_rad = rdf.AsNumpy(columns=[\"rangle(radians)\"])[\"rangle(radians)\"]\n"
   ]
  },
  {
   "cell_type": "code",
   "execution_count": 63,
   "metadata": {},
   "outputs": [
    {
     "name": "stderr",
     "output_type": "stream",
     "text": [
      "Info in <TCanvas::Print>: pdf file /media/droc/Seagate/PHYS-461/6-compton/data/COMPTON-DATA.pdf has been created\n"
     ]
    }
   ],
   "source": [
    "c0.Update()\n",
    "\n",
    "gr = ROOT.TGraphErrors(len(cos_1),cos_1,E_1,0,stddev_1_E)\n",
    "gr.SetMarkerStyle(ROOT.kFullCircle)\n",
    "gr.SetTitle(\"1/E' vs [1-cos(#theta)]\")\n",
    "gr.GetXaxis().SetTitle(\"[1-cos(#theta)]\")\n",
    "gr.GetYaxis().SetTitle(\"1/E'\")\n",
    "gr.Fit(line, \"Q\")\n",
    "\n",
    "p0 = line.GetParameter(0)\n",
    "p0_error = line.GetParError(0)\n",
    "p1 = line.GetParameter(1)\n",
    "p1_error = line.GetParError(1)\n",
    "\n",
    "gr.Draw()\n",
    "\n",
    "latex = ROOT.TLatex()\n",
    "latex.SetNDC()\n",
    "latex.SetTextSize(0.06)\n",
    "latex.DrawLatex(0.4,0.8,f'#scale[0.6]{{#bf{{slope: {p0:.2e} #sigma = #pm {p0_error:.2e} }}}}') \n",
    "latex.DrawLatex(0.4,0.76,f'#scale[0.6]{{#bf{{y-intercept: {p1:.2e} #sigma = #pm {p1_error:.2e}}}}}') \n",
    "\n",
    "\n",
    "\n",
    "png_file = file_out_root.replace(\".root\",\".pdf\")\n",
    "c0.SaveAs(png_file)\n",
    "c0.Clear()\n"
   ]
  },
  {
   "cell_type": "code",
   "execution_count": null,
   "metadata": {},
   "outputs": [],
   "source": []
  }
 ],
 "metadata": {
  "kernelspec": {
   "display_name": "root-environment",
   "language": "python",
   "name": "python3"
  },
  "language_info": {
   "codemirror_mode": {
    "name": "ipython",
    "version": 3
   },
   "file_extension": ".py",
   "mimetype": "text/x-python",
   "name": "python",
   "nbconvert_exporter": "python",
   "pygments_lexer": "ipython3",
   "version": "3.12.7"
  }
 },
 "nbformat": 4,
 "nbformat_minor": 2
}
